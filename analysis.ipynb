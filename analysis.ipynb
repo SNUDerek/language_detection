{
 "cells": [
  {
   "cell_type": "code",
   "execution_count": 62,
   "metadata": {},
   "outputs": [],
   "source": [
    "import numpy as np\n",
    "import pandas as pd"
   ]
  },
  {
   "cell_type": "markdown",
   "metadata": {},
   "source": [
    "# load predictions from tsv\n",
    "\n",
    "after training, a tsv is generated with test set predictions vs ground truth"
   ]
  },
  {
   "cell_type": "code",
   "execution_count": 123,
   "metadata": {},
   "outputs": [
    {
     "name": "stdout",
     "output_type": "stream",
     "text": [
      "test data has 117500 samples, 235 labels\n"
     ]
    }
   ],
   "source": [
    "# load data from generated tsv\n",
    "csv_file = \"./experiments/wili2018/testset.tsv\"\n",
    "df = pd.read_csv(csv_file, sep=\"\\t\")\n",
    "true_labels = df[\"true_label\"].to_list()\n",
    "true_names = df[\"true_name\"].to_list()\n",
    "true_texts = df[\"sample\"].to_list()\n",
    "pred_labels = df[\"pred_label\"].to_list()\n",
    "assert len(true_labels) == len(pred_labels) == len(true_texts)\n",
    "assert len(set(true_labels)) == 235\n",
    "# create mapping from labels to full names\n",
    "lang_map = dict(list(zip(true_labels, true_names)))\n",
    "print(f\"test data has {len(true_labels)} samples, {len(set(true_labels))} labels\")"
   ]
  },
  {
   "cell_type": "code",
   "execution_count": 11,
   "metadata": {},
   "outputs": [
    {
     "name": "stdout",
     "output_type": "stream",
     "text": [
      "set of counts per label: {500}\n"
     ]
    }
   ],
   "source": [
    "# check label distribution\n",
    "from collections import Counter\n",
    "counts = Counter(true_labels)\n",
    "print(f\"set of counts per label: {set(counts.values())}\")"
   ]
  },
  {
   "cell_type": "markdown",
   "metadata": {},
   "source": [
    "## statistics"
   ]
  },
  {
   "cell_type": "code",
   "execution_count": 83,
   "metadata": {},
   "outputs": [
    {
     "name": "stdout",
     "output_type": "stream",
     "text": [
      "classification results, test set:\n",
      "\n",
      "macro precision: 0.91144\n",
      "macro recall:    0.90686\n",
      "macro F1:        0.90768\n"
     ]
    }
   ],
   "source": [
    "# macro precision, recall, fl\n",
    "from sklearn.metrics import precision_score, recall_score, f1_score, classification_report\n",
    "prc = precision_score(y_true=true_labels, y_pred=pred_labels, average=\"macro\")\n",
    "rcl = recall_score(y_true=true_labels, y_pred=pred_labels, average=\"macro\")\n",
    "f1b = f1_score(y_true=true_labels, y_pred=pred_labels, average=\"macro\")\n",
    "print(f\"classification results, test set:\\n\")\n",
    "print(f\"macro precision: {prc:.5f}\")\n",
    "print(f\"macro recall:    {rcl:.5f}\")\n",
    "print(f\"macro F1:        {f1b:.5f}\")"
   ]
  },
  {
   "cell_type": "code",
   "execution_count": 70,
   "metadata": {},
   "outputs": [],
   "source": [
    "# quick and dirty way to get per-class metrics\n",
    "results = str(classification_report(y_true=true_labels, y_pred=pred_labels, digits=5)).split(\"\\n\")\n",
    "line_results = results[2:-5]\n",
    "cls_scores = [line.split() for line in line_results]\n",
    "assert set(([len(x) for x in cls_scores])) == {5}\n",
    "# cls_scores are now 5-element tuples of (lang-code, precision, recall, f1, support)"
   ]
  },
  {
   "cell_type": "code",
   "execution_count": 79,
   "metadata": {},
   "outputs": [
    {
     "name": "stdout",
     "output_type": "stream",
     "text": [
      "class f1 score statistics\n",
      "\n",
      "minimum F1: 0.4425\n",
      "10 %ile F1: 0.79118\n",
      "median  F1: 0.94405\n",
      "mean    F1: 0.90768, std: 0.10524\n",
      "90 %ile F1: 0.99156\n",
      "maximum F1: 1.0\n"
     ]
    }
   ],
   "source": [
    "# get statistics about class F1 scores\n",
    "cls_f1_scores = [float(t[3]) for t in cls_scores]\n",
    "print(f\"class f1 score statistics\\n\")\n",
    "print(f\"minimum F1: {np.min(cls_f1_scores)}\")\n",
    "print(f\"10 %ile F1: {np.percentile(cls_f1_scores, 10)}\")\n",
    "print(f\"median  F1: {np.median(cls_f1_scores)}\")\n",
    "print(f\"mean    F1: {np.mean(cls_f1_scores):.5f}, std: {np.std(cls_f1_scores):.5f}\")\n",
    "print(f\"90 %ile F1: {np.percentile(cls_f1_scores, 90)}\")\n",
    "print(f\"maximum F1: {np.max(cls_f1_scores)}\")"
   ]
  },
  {
   "cell_type": "code",
   "execution_count": 80,
   "metadata": {},
   "outputs": [
    {
     "name": "stdout",
     "output_type": "stream",
     "text": [
      "ten languages by highest F1 score:\n",
      "\n",
      "lang: nan              nan     \tF1: 0.99501, prc: 0.99205, rcl: 0.99800\n",
      "lang: Maori            mri     \tF1: 0.99599, prc: 0.99799, rcl: 0.99400\n",
      "lang: Malagasy         mlg     \tF1: 0.99600, prc: 0.99600, rcl: 0.99600\n",
      "lang: Uighur           uig     \tF1: 0.99699, prc: 1.00000, rcl: 0.99400\n",
      "lang: Lojban           jbo     \tF1: 0.99800, prc: 0.99602, rcl: 1.00000\n",
      "lang: Burmese          mya     \tF1: 0.99800, prc: 1.00000, rcl: 0.99600\n",
      "lang: Tibetan          bod     \tF1: 0.99900, prc: 1.00000, rcl: 0.99800\n",
      "lang: Dhivehi          div     \tF1: 0.99900, prc: 1.00000, rcl: 0.99800\n",
      "lang: Central Kurdish  ckb     \tF1: 1.00000, prc: 1.00000, rcl: 1.00000\n",
      "lang: Navajo           nav     \tF1: 1.00000, prc: 1.00000, rcl: 1.00000\n"
     ]
    }
   ],
   "source": [
    "# get highestt-F1 languages\n",
    "print(f\"ten languages by highest F1 score:\\n\")\n",
    "for cls_score in sorted(cls_scores, key=lambda x: x[3])[-10:]:\n",
    "    try:\n",
    "        print(f\"lang: {lang_map.get(cls_score[0], 'nan'):<16} {cls_score[0]:<8}\\tF1: {cls_score[3]}, prc: {cls_score[1]}, rcl: {cls_score[2]}\")\n",
    "    except:\n",
    "        print(cls_score)"
   ]
  },
  {
   "cell_type": "code",
   "execution_count": 81,
   "metadata": {},
   "outputs": [
    {
     "name": "stdout",
     "output_type": "stream",
     "text": [
      "ten languages by lowest F1 score:\n",
      "\n",
      "lang: Croatian         hrv     \tF1: 0.44250, prc: 0.43156, rcl: 0.45400\n",
      "lang: Bosnian          bos     \tF1: 0.44815, prc: 0.55457, rcl: 0.37600\n",
      "lang: Pampanga         pam     \tF1: 0.46772, prc: 0.82741, rcl: 0.32600\n",
      "lang: Serbo-Croatian   hbs     \tF1: 0.47122, prc: 0.42810, rcl: 0.52400\n",
      "lang: Indonesian       ind     \tF1: 0.48993, prc: 0.55584, rcl: 0.43800\n",
      "lang: English          eng     \tF1: 0.54071, prc: 0.43890, rcl: 0.70400\n",
      "lang: Malay            msa     \tF1: 0.56330, prc: 0.55299, rcl: 0.57400\n",
      "lang: German           deu     \tF1: 0.60388, prc: 0.47138, rcl: 0.84000\n",
      "lang: Banyumasan       map-bms \tF1: 0.61326, prc: 0.53858, rcl: 0.71200\n",
      "lang: Chavacano        cbk     \tF1: 0.66294, prc: 0.62021, rcl: 0.71200\n"
     ]
    }
   ],
   "source": [
    "# get lowest-F1 languages\n",
    "print(f\"ten languages by lowest F1 score:\\n\")\n",
    "for cls_score in sorted(cls_scores, key=lambda x: x[3])[:10]:\n",
    "    print(f\"lang: {lang_map.get(cls_score[0], 'nan'):<16} {cls_score[0]:<8}\\tF1: {cls_score[3]}, prc: {cls_score[1]}, rcl: {cls_score[2]}\")"
   ]
  },
  {
   "cell_type": "markdown",
   "metadata": {},
   "source": [
    "## qualitative analysis\n",
    "\n",
    "both English and German are both among the worst classified, so let's check out examples\n",
    "\n",
    "i'm not exactly a `pandas` master yet so forgive the list comprehensions below"
   ]
  },
  {
   "cell_type": "markdown",
   "metadata": {},
   "source": [
    "### German"
   ]
  },
  {
   "cell_type": "code",
   "execution_count": 104,
   "metadata": {},
   "outputs": [
    {
     "name": "stdout",
     "output_type": "stream",
     "text": [
      "most common languages for German false negatives\n",
      "\n",
      "Pennsylvania German    pdc     :  18\n",
      "Low German             nds     :  15\n",
      "Alemannic German       als     :   9\n",
      "Palatine German        pfl     :   4\n",
      "Saterfriesisch         stq     :   3\n",
      "Luxembourgish          ltz     :   3\n",
      "Bavarian               bar     :   3\n",
      "Albanian               sqi     :   2\n",
      "Dutch                  nld     :   2\n",
      "Bulgarian              bul     :   2\n",
      "\n",
      "\n",
      "most common languages for German false positives\n",
      "\n",
      "Pampanga               pam     : 261\n",
      "Alemannic German       als     :  40\n",
      "Bavarian               bar     :  34\n",
      "Low German             nds     :  20\n",
      "Palatine German        pfl     :  19\n",
      "Pennsylvania German    pdc     :  17\n",
      "Luxembourgish          ltz     :  12\n",
      "Aromanian              rup     :   6\n",
      "Saterfriesisch         stq     :   5\n",
      "Albanian               sqi     :   5\n"
     ]
    }
   ],
   "source": [
    "# get most common false negatives\n",
    "lang = \"deu\"\n",
    "\n",
    "false_negs = [pred_labels[i] for i in range(len(true_labels)) if true_labels[i] == lang and pred_labels[i] != lang]\n",
    "print(f\"most common languages for {lang_map[lang]} false negatives\\n\")\n",
    "for lang_code, count in Counter(false_negs).most_common(10):\n",
    "    print(f\"{lang_map[lang_code]:<22} {lang_code:<8}: {count:>3}\")\n",
    "print(\"\\n\")\n",
    "\n",
    "# get most common false positives\n",
    "false_pos = [true_labels[i] for i in range(len(true_labels)) if true_labels[i] != lang and pred_labels[i] == lang]\n",
    "print(f\"most common languages for {lang_map[lang]} false positives\\n\")\n",
    "for lang_code, count in Counter(false_pos).most_common(10):\n",
    "    print(f\"{lang_map[lang_code]:<22} {lang_code:<8}: {count:>3}\")"
   ]
  },
  {
   "cell_type": "markdown",
   "metadata": {},
   "source": [
    "for the most part, this looks reasonable from a linguistic and regional perspective.\n",
    "\n",
    "most languages with the highest confusion with 'German' label are dialects of German, are Germanic languages, or are regionally proximate.\n",
    "\n",
    "it is odd that `Pampanga` has so many false positives though, so let's take a qualitative look.\n",
    "\n",
    "it seems there are some mislabeled entries in the WiLI-2018 dataset."
   ]
  },
  {
   "cell_type": "code",
   "execution_count": 124,
   "metadata": {},
   "outputs": [
    {
     "name": "stdout",
     "output_type": "stream",
     "text": [
      "'pam' tagged samples that were predicted 'deu':\n",
      "\n",
      "- Unter MS-DOS gibt es beispielsweise Companion-Viren, die zu einer ausführbaren EXE-Datei eine versteckte Datei gleichen Namens mit der Endung „.com“ erstellen, die dann nur das Virus enthält. Wird in der Kommandozeile von MS-DOS ein Programmname ohne Endung eingegeben, sucht das Betriebssystem zuerst nach Programmen mit der Endung „.com“ und danach erst nach Programmen mit der Endung „.exe“, so dass der Schädling vor dem eigentlichen Programm in der Suchreihenfolge erscheint und aufgerufen wird. Der Schädling führt, nachdem er sich meist im Arbeitsspeicher festgesetzt hat, das ursprüngliche Programm aus, so dass der Benutzer oft nichts von der Infektion bemerkt. Überschreibende\n",
      "- Im Jahr 2002 wurde das erste Virus geschrieben, das sowohl Win32-Anwendungen als auch ELF-Dateien (zum Beispiel Linux-Anwendungen) infizieren konnte. Dieses Virus kann als das Einläuten eines neuen Zeitalters der Viren gesehen werden.\n",
      "- Heutzutage sind Computerviren fast vollständig von Würmern verdrängt worden, da fast jeder Rechner an das Internet oder lokale Netze angeschlossen ist und die aktive Verbreitungsstrategie der Würmer in kürzerer Zeit eine größere Verbreitung ermöglicht. Viren sind nur noch in neuen Nischen (siehe unten) von Bedeutung. Unterschied zwischen Virus und Wurm\n",
      "- Computerviren haben viele unterschiedliche Formen, daher ist es nur schwer möglich, zu beschreiben, wie ein Virus grundsätzlich aufgebaut ist. Der einzige nötige Bestandteil, der aus einem Computerprogramm per Definition einen Computervirus macht, ist die Vermehrungsroutine.\n",
      "- Es empfiehlt sich weiterhin, das automatische Ausführen von Makros in der entsprechenden Anwendung auszuschalten. Skriptviren Teil des Source-Codes von Html.Lame, einem Skriptvirus, das HTML-Dateien infiziert.\n",
      "- Die eingebauten Schutzfunktionen des Betriebssystems sollten ausgenutzt werden. Dazu zählt insbesondere, nicht als Administrator mit allen Rechten, sondern als Nutzer mit eingeschränkten Rechten zu arbeiten, da dieser keine Software systemweit installieren darf.\n",
      "- Um eine ausführbare Datei zu infizieren, muss das Virus sich in diese Wirtsdatei einfügen (oft direkt am Ende, da dies am einfachsten ist). Außerdem modifiziert das Virus die Wirtsdatei so, dass das Virus beim Programmstart aufgerufen wird. Eine spezielle Form von Linkviren wählt eine andere Strategie und fügt sich in eine bestehende Programmfunktion ein.\n",
      "- Im Jahr 2004 brach dann endgültig eine neue Ära für Viren an. Das erste Virus für PocketPCs (mit dem Betriebssystem Windows CE) tauchte auf und zeigte, dass auch diese viel verwendeten Kommunikationsgeräte nicht verschont werden.\n",
      "- Ein Schutz gegen Makroviren besteht darin, dafür zu sorgen, dass nur zertifizierte Makros von der Anwendung ausgeführt werden. Dies ist insbesondere für (größere) Unternehmen und Behörden von Interesse, wo eine zentrale Zertifizierungsstelle Makros zum allgemeinen Gebrauch vor deren Freigabe überprüft und akzeptierte Makros zertifiziert.\n",
      "- Ein Wurm kann sich dann wie ein Virus in eine andere Programmdatei einfügen; meistens versucht er sich jedoch nur an einer unauffälligen Stelle im System mit einem unauffälligen Namen zu verbergen und verändert das Zielsystem so, dass beim Systemstart der Wurm aufgerufen wird (wie etwa die Autostart-Funktion in Microsoft-Windows-Systemen).\n",
      "\n",
      "compare to:\n",
      "\n",
      "'pam' tagged samples, correctly identified:\n",
      "\n",
      "- Ing Shuangyashan (simplified Chinese: 双鸭山; pinyin: Shuāngyāshān) metung yang lakanbalen a kadaneng prefecture (prefecture-level city) a magminang karbun a atyu king aslagan nang dake ning lalawigan ning Heilongjiang, Maldang Republika ning Tsina, manga dinalan (100) a kilometru king mauli ning angganan ning Rusia. Mangabaldugan yang adwang bibing bunduk ing lagyu ning lakanbalen, at painturu ya iti kareng adwang bunduk king pangulu aslagan ning lakanbalen. In 2007 it had a GDP of RMB 20,6 billion with a 14,2% growth rate.\n",
      "- Ing Zengcheng metung yang lakanbalen a kadaneng kondadu (county-level city) king lalawigan ning Guangzhou, Guangdong, Maldang Republika ning Tsina.\n",
      "- Ing Septiembri 22 ya ing pang 265 a aldo ning banua keng Gregorian Calendariu. Atin pang 100 aldong makatagan king banua. Template:SeptiembriCalendariu2018\n",
      "- Ing Forces Libanaises (FL) (Arabic: القوات اللبنانية al-quwat al-lubnāniyya, Syriac: ܚܝܠܘܬܐ ܠܒܢܢܝܐ haylawothe lebnanoye) metung yang partido political king Lebanon a tetag nang Bachir Gemayel. Aniang Guerrang Civil king Lebanon, linaban ya ing pangimut antimong manimunang militia king Front Libanais, a dodominan da reng Cristianu. Kaibat ning guerrang civil, mibayu ya ing pangimut at meging partido political. Kanitang 1994, kabang makasakup ya king Syria ing Lebanon, mibawal ya ing partido, at makasalikut ing actividad da reng kayang kayanib kareng serviciung Lebanese. Mibalik ya antimong legal a partido ing Lebanese Forces kaibat ning Cedar Revolution aniang umpisa ning 2005, a tikian ning pamaglako da reng fuerza ning Syria king Lebanon. I Samir Geagea ing kayang pekapun manibat aniang 1986.\n",
      "- Ing Calumpit primeru yang klasing balen king lalawigan ning Bulacan, Filipinas. Agpang keng 2000 sensus, atin yang populasyun a 81,113 katau kareng 16,167 a pamimalemale.\n",
      "- Ing Banaue pang4 yang klasing balen king lalawigan ning Ifugao, Filipinas. Agpang keng 2000 sensus, atin yang populasyun a 20,563 a katau kareng 3,952 a pamimalemale. Iti kebaluan na iti ing karinan ning Banaue Rice Terraces.\n",
      "- Dieser Typ von Viren verschlüsselt sich selbst. Der Schlüssel kann dabei von Infektion zu Infektion variieren. Das soll Antivirenprogramme daran hindern, einfach nach einer bestimmten Zeichenfolge in Dateien suchen zu können. Die Routine zum Entschlüsseln muss aber naturgemäß in normaler Form vorliegen und kann von Antivirenprogrammen erkannt werden. Polymorphe Viren\n",
      "- Ing Agostu 18 ya ing pang 230 a aldo ning banua keng Gregorian Calendariu. Atin pang 135 aldong makatagan king banua. Template:AgostuCalendariu2018\n",
      "- Ing Labrador pang5 yang klasing balen king lalawigan ning Pangasinan, Filipinas. Agpang keng 2000 sensus, atin yang populasyun a 19,115 a katau kareng 3,830 a pamimalemale.\n",
      "- Makroviren benötigen Anwendungen, die Dokumente mit eingebetteten Makros verarbeiten. Sie befallen Makros in nicht-infizierten Dokumenten oder fügen entsprechende Makros ein, falls diese noch nicht vorhanden sind.\n"
     ]
    }
   ],
   "source": [
    "true_lang = \"pam\"\n",
    "pred_lang = \"deu\"\n",
    "print(f\"'{true_lang}' tagged samples that were predicted '{pred_lang}':\\n\")\n",
    "mistaken_samples = [true_texts[i] for i in range(len(true_labels)) \n",
    "                    if true_labels[i] == true_lang \n",
    "                    and pred_labels[i] == pred_lang]\n",
    "for idx in range(10):\n",
    "    print(f\"- {mistaken_samples[idx]}\")\n",
    "\n",
    "print(f\"\\ncompare to:\\n\")\n",
    "\n",
    "print(f\"'{true_lang}' tagged samples, correctly identified:\\n\")\n",
    "mistaken_samples = [true_texts[i] for i in range(len(true_labels)) \n",
    "                    if true_labels[i] == true_lang \n",
    "                    and pred_labels[i] == true_lang]\n",
    "for idx in range(10):\n",
    "    print(f\"- {mistaken_samples[idx]}\")"
   ]
  },
  {
   "cell_type": "markdown",
   "metadata": {},
   "source": [
    "just to check, let's find the line numbers for one of the mislabeled samples, and check against the label data.\n",
    "\n",
    "it seems there are (near?) duplicates in the test data, and in this case, all entries are mis-labeled"
   ]
  },
  {
   "cell_type": "code",
   "execution_count": 131,
   "metadata": {},
   "outputs": [
    {
     "name": "stdout",
     "output_type": "stream",
     "text": [
      "407:Unter MS-DOS gibt es beispielsweise Companion-Viren, die zu einer ausführbaren EXE-Datei eine versteckte Datei gleichen Namens mit der Endung „.com“ erstellen, die dann nur das Virus enthält. Wird in der Kommandozeile von MS-DOS ein Programmname ohne Endung eingegeben, sucht das Betriebssystem zuerst nach Programmen mit der Endung „.com“ und danach erst nach Programmen mit der Endung „.exe“, so dass der Schädling vor dem eigentlichen Programm in der Suchreihenfolge erscheint und aufgerufen wird. Der Schädling führt, nachdem er sich meist im Arbeitsspeicher festgesetzt hat, das ursprüngliche Programm aus, so dass der Benutzer oft nichts von der Infektion bemerkt. Überschreibende\n",
      "29415:Unter MS-DOS gibt es beispielsweise Companion-Viren, die zu einer ausführbaren EXE-Datei eine versteckte Datei gleichen Namens mit der Endung „.com“ erstellen, die dann nur das Virus enthält. Wird in der Kommandozeile von MS-DOS ein Programmname ohne Endung eingegeben, sucht das Betriebssystem zuerst nach Programmen mit der Endung „.com“ und danach erst nach Programmen mit der Endung „.exe“, so dass der Schädling vor dem eigentlichen Programm in der Suchreihenfolge erscheint und aufgerufen wird. Der Schädling führt, nachdem er sich meist im Arbeitsspeicher festgesetzt hat, das ursprüngliche Programm aus, so dass der Benutzer oft nichts von der Infektion bemerkt. Überschreibende\n",
      "61464:Unter MS-DOS gibt es beispielsweise Companion-Viren, die zu einer ausführbaren EXE-Datei eine versteckte Datei gleichen Namens mit der Endung „.com“ erstellen, die dann nur das Virus enthält. Wird in der Kommandozeile von MS-DOS ein Programmname ohne Endung eingegeben, sucht das Betriebssystem zuerst nach Programmen mit der Endung „.com“ und danach erst nach Programmen mit der Endung „.exe“, so dass der Schädling vor dem eigentlichen Programm in der Suchreihenfolge erscheint und aufgerufen wird. Der Schädling führt, nachdem er sich meist im Arbeitsspeicher festgesetzt hat, das ursprüngliche Programm aus, so dass der Benutzer oft nichts von der Infektion bemerkt. Überschreibende\n"
     ]
    }
   ],
   "source": [
    "!grep -in \"Unter MS-DOS gibt es beispielsweise Companion-Viren\" ./datasets/WiLi_2018/x_test.txt"
   ]
  },
  {
   "cell_type": "code",
   "execution_count": 134,
   "metadata": {},
   "outputs": [
    {
     "name": "stdout",
     "output_type": "stream",
     "text": [
      "pam\n"
     ]
    }
   ],
   "source": [
    "!sed -n 407p ./datasets/WiLi_2018/y_test.txt"
   ]
  },
  {
   "cell_type": "code",
   "execution_count": 135,
   "metadata": {},
   "outputs": [
    {
     "name": "stdout",
     "output_type": "stream",
     "text": [
      "pam\n"
     ]
    }
   ],
   "source": [
    "!sed -n 29415p ./datasets/WiLi_2018/y_test.txt"
   ]
  },
  {
   "cell_type": "code",
   "execution_count": 136,
   "metadata": {},
   "outputs": [
    {
     "name": "stdout",
     "output_type": "stream",
     "text": [
      "pam\n"
     ]
    }
   ],
   "source": [
    "!sed -n 61464p ./datasets/WiLi_2018/y_test.txt"
   ]
  },
  {
   "cell_type": "code",
   "execution_count": 138,
   "metadata": {},
   "outputs": [
    {
     "name": "stdout",
     "output_type": "stream",
     "text": [
      "117500 ./datasets/WiLi_2018/x_test.txt\n"
     ]
    }
   ],
   "source": [
    "!wc -l ./datasets/WiLi_2018/x_test.txt"
   ]
  },
  {
   "cell_type": "code",
   "execution_count": 139,
   "metadata": {},
   "outputs": [
    {
     "name": "stdout",
     "output_type": "stream",
     "text": [
      "117500 ./datasets/WiLi_2018/y_test.txt\n"
     ]
    }
   ],
   "source": [
    "!wc -l ./datasets/WiLi_2018/y_test.txt"
   ]
  },
  {
   "cell_type": "markdown",
   "metadata": {},
   "source": [
    "### English"
   ]
  },
  {
   "cell_type": "code",
   "execution_count": 105,
   "metadata": {},
   "outputs": [
    {
     "name": "stdout",
     "output_type": "stream",
     "text": [
      "most common languages for English false negatives\n",
      "\n",
      "Chavacano              cbk     :  25\n",
      "Scots                  sco     :  23\n",
      "Xhosa                  xho     :   9\n",
      "Igbo                   ibo     :   8\n",
      "Yoruba                 yor     :   7\n",
      "Fiji Hindi             hif     :   5\n",
      "Shona                  sna     :   5\n",
      "Newari                 new     :   5\n",
      "Kinyarwanda            kin     :   4\n",
      "Pennsylvania German    pdc     :   3\n",
      "\n",
      "\n",
      "most common languages for English false positives\n",
      "\n",
      "Scots                  sco     :  58\n",
      "Igbo                   ibo     :  27\n",
      "Central Khmer          khm     :  25\n",
      "Konkani                kok     :  19\n",
      "Yoruba                 yor     :  19\n",
      "Old English            ang     :  17\n",
      "Picard                 pcd     :  17\n",
      "Avar                   ava     :  16\n",
      "Pangasinan             pag     :  14\n",
      "Fiji Hindi             hif     :  12\n"
     ]
    }
   ],
   "source": [
    "# get most common false negatives\n",
    "lang = \"eng\"\n",
    "\n",
    "false_negs = [pred_labels[i] for i in range(len(true_labels)) if true_labels[i] == lang and pred_labels[i] != lang]\n",
    "print(f\"most common languages for {lang_map[lang]} false negatives\\n\")\n",
    "for lang_code, count in Counter(false_negs).most_common(10):\n",
    "    print(f\"{lang_map[lang_code]:<22} {lang_code:<8}: {count:>3}\")\n",
    "print(\"\\n\")\n",
    "\n",
    "# get most common false positives\n",
    "false_pos = [true_labels[i] for i in range(len(true_labels)) if true_labels[i] != lang and pred_labels[i] == lang]\n",
    "print(f\"most common languages for {lang_map[lang]} false positives\\n\")\n",
    "for lang_code, count in Counter(false_pos).most_common(10):\n",
    "    print(f\"{lang_map[lang_code]:<22} {lang_code:<8}: {count:>3}\")"
   ]
  },
  {
   "cell_type": "code",
   "execution_count": 128,
   "metadata": {},
   "outputs": [
    {
     "name": "stdout",
     "output_type": "stream",
     "text": [
      "'eng' tagged samples that were predicted 'cbk':\n",
      "\n",
      "- Inclusive Democracy (ID) is a project that aims for direct democracy; economic democracy in a stateless, moneyless and marketless economy; self-management (democracy in the social realm); and ecological democracy.\n",
      "- 1st place in Freedom of the Press, Best Local Non-Staff Column, Best Investigative/In-depth Story or Series, Best News Feature Story, Best Spot News Story, Best Special Section or Campaign (Advertising), Best Editorial Writing, Best-In-House Promotion, Best Illustration, Best Information Graphic, Best Non-staff story, Editorial of the Year, Best Online Writing in 2013, Nevada Press Association\n",
      "- Following the Seagram Building He built several smaller projects in a more personal, expressive style, with ornament touches and features far from the sobriety of the modernist style; the Synagogue of Port Chester New York, with a plaster vaulted ceiling and narrow colored windows (1954–56); the Art Gallery of the University of Nebraska with an array of symmetrical arcs (1963); (the Roofless Church in New Harmony, Indiana with a mushroom-shaped roof covered with wood shingles (1960). In 1960 he also built a severely modernist monastery building for in the expansion of St. Anselm's Abbey in Washington, D.C..\n",
      "- Coburn also appeared in dozens of television roles including, with Roberts, several episodes of NBC's Bonanza. Coburn appeared twice each on two other NBC westerns Tales of Wells Fargo with Dale Robertson, one episode in the role of Butch Cassidy, and The Restless Gun with John Payne in \"The Pawn\" and \"The Way Back\", the latter segment alongside Bonanza's Dan Blocker.\n",
      "- The district had only the town of Saganoseki until December 31, 2004. But on January 1, 2005, Saganoseki, along with the town of Notsuharu (from Ōita District), was merged into the expanded city of Ōita, and Kita-Amabe District was dissolved as a result of this merger.\n",
      "- Max Weinberg (born 1951, class of 1969), drummer for Bruce Springsteen and the E Street Band and band leader of The Max Weinberg 7 of Late Night with Conan O'Brien.\n",
      "- The girls' track and field team won the New Jersey Group IV indoor relay state championship in 1982, 1983, 1984, 1994, 1996, 1997, 1998, 2004, 2013 and 2014; the 10 state titles are ties for the most won by any girls track program. The boys' track team placed 5th at the Nike Indoor Nationals in the 4x400 meter relay in 2009, making it the best in history for Columbia boys and breaking a school record. In the 2010 outdoor season, both the girls' and boys' teams went to the New Balance Outdoor Nationals, where the girls' team won, making them #1 in the country, and the boys placed 6th.\n",
      "- Shealy owned a small chain of South Carolina newspapers including The Beaufort County News, The Lake Murray News, The Cayce-West Columbia News, The Northeast News, North Charleston News, Goose Creek, The Hanahan, and The New Irmo News. He also owned Gatsbees World Fair, an old fashioned soda shop.\n",
      "- Nate warns Truck of the hit out on him. Truck frames Annie for shoplifting, and the police arrest her. Truck visits Nate again in the hospital. Truck gives Nate Jerry's gun for protection, and then they shoot Blue's goons when they burst in. Blue flees, but Truck shoots him. Blue dies a few minutes later in the driver's seat of his car. Truck confronts Dorinda and more goons at her house, and kills her when she reaches for a gun.\n",
      "- Brave 1: The Beginning (also known as Brave 1 and Brave: The Beginning) was a mixed martial arts event held live by Brave Combat Federation on Friday September 23, 2016 at the Khalifa Sports City in Isa Town, Bahrain. The event was broadcast live online and locally through Bahrain TV.\n",
      "\n",
      "compare to:\n",
      "\n",
      "'cbk' tagged samples, correctly identified:\n",
      "\n",
      "- Malungon el primero clase de municipalidad na provincia de Sarangani, Filipinas. Tiene este zona de 750.92 kilometro cuadrado y ta loca na unico distrito. Comporme del 2010 census este tiene papulidad de 95,044 personas. El designada codigo postal 9503.\n",
      "- Tomas Oppus el ika sinco clase de municipalidad na provincia de Southern Leyte, Filipinas. Tiene este zona de 56.11 kilometro cuadrado y ta loca na unico distrito. Comporme del 2010 census este tiene papulidad de 15,807 personas. El designada codigo postal 6605.\n",
      "- El evangelio de Marcos registra también un gran número de sanaciones: la suegra de Pedro (Plantilla:Biblia), el leproso galileo (Plantilla:Biblia), el paralítico de Cafarnaún (Plantilla:Biblia), el hombre de la mano paralizada (Plantilla:Biblia), la hemorroísa (Plantilla:Biblia), el sordomudo de la Decápolis (Plantilla:Biblia), el ciego de Betsaida (Plantilla:Biblia) y Bartimeo, el ciego de Jericó (Plantilla:Biblia). De estos, todos ellos tienen su equivalente en al menos uno de los otros dos sinópticos, excepto dos, el sordomudo de la Decápolis y el ciego de Betsaida, los únicos en los que Jesús emplea un cierto ritual que puede calificarse de mágico.\n",
      "- Plantilla:See also KTLA began carrying Los Angeles Dodgers games beginning with the team's 1993 season, obtaining the television rights from KTTV (channel 11), which had carried the team's games from 1958 (when the team relocated to Los Angeles from Brooklyn, New York) until 1992. KTLA lost the rights in 2001, with games moving to UPN affiliate KCOP-TV (channel 13, now a MyNetworkTV owned-and-operated station) in 2002.\n",
      "- However, there are some that used a few, but not all, elements of the NFL on CBS production presentations, and they are mostly in-house productions between the teams and their individual flagship station. Those include the Pittsburgh Steelers (KDKA-TV), Miami Dolphins (WFOR-TV), San Francisco 49ers (KPIX and KOVR in Sacramento), Dallas Cowboys (KTVT), Cincinnati Bengals (WKRC-TV), Kansas City Chiefs (KCTV), New England Patriots (WBZ-TV), Atlanta Falcons (WGCL-TV) and the Jacksonville Jaguars (WJAX-TV). CBS O&O WWJ-TV in Detroit was in the Detroit Lions' flagship station from 2008–2010 and used most of their graphics and music.\n",
      "- El río Amazonas comienza en el Perú. Nace al norte de la selva peruana y comparte la frontera con Colombia para luego recorrer hacia y por Brasil donde desemboca en el Océano Atlántico.\n",
      "- El Perú, como otros países de América Latina, es étnica y racialmente variado. No existen censos sobre composición étnica en el Perú, pero de acuerdo con fuentes diplomáticas peruanas y agencias independientes (cuyo propósito es luchar contra la discriminación), la composición racial de la población peruana comprendería de un principal compontente de etnias mestizas.\n",
      "- San Mateo el primero clase de municipalidad na provincia de Isabela, Filipinas. Tiene este zona de 120.6 kilometro cuadrado y ta loca na ika tres distrito. Comporme del 2010 census este tiene papulidad de 60,792 personas. El designada codigo postal 3318.\n",
      "- The New York Giants in particular were carried on the DuMont Network, then CBS (New York's WCBS-TV Channel 2) in the early TV days of the NFL, when home games were blacked out within a 75-mile radius of New York City. Chris Schenkel was their play-by-play announcer in that early era when each team was assigned its own network voice on its regional telecasts. At the time, there were few if any true national telecasts until the NFL championship game, which was carried by NBC. Schenkel was joined by Jim McKay, later Johnny Lujack through the 1950s and the early 1960s. As Giants players retired to the broadcast booth in the early and 1960s, first Pat Summerall, then Frank Gifford took the color analyst slot next to Schenkel. As the 1970 merger of the NFL and AFL approached, CBS moved to a more generic announcer approach while Schenkel left to join ABC Sports.\n",
      "- Dimasalang el ika kwatro clase de municipalidad na provincia de Masbate, Filipinas. Tiene este zona de 148.07 kilometro cuadrado y ta loca na ika tres distrito. Comporme del 2010 census este tiene papulidad de 25,245 personas. El designada codigo postal 5403.\n"
     ]
    }
   ],
   "source": [
    "true_lang = \"eng\"\n",
    "pred_lang = \"cbk\"\n",
    "print(f\"'{true_lang}' tagged samples that were predicted '{pred_lang}':\\n\")\n",
    "mistaken_samples = [true_texts[i] for i in range(len(true_labels)) \n",
    "                    if true_labels[i] == true_lang \n",
    "                    and pred_labels[i] == pred_lang]\n",
    "for idx in range(10):\n",
    "    print(f\"- {mistaken_samples[idx]}\")\n",
    "\n",
    "print(f\"\\ncompare to:\\n\")\n",
    "\n",
    "print(f\"'{pred_lang}' tagged samples, correctly identified:\\n\")\n",
    "mistaken_samples = [true_texts[i] for i in range(len(true_labels)) \n",
    "                    if true_labels[i] == pred_lang \n",
    "                    and pred_labels[i] == pred_lang]\n",
    "for idx in range(10):\n",
    "    print(f\"- {mistaken_samples[idx]}\")"
   ]
  },
  {
   "cell_type": "code",
   "execution_count": 126,
   "metadata": {},
   "outputs": [
    {
     "name": "stdout",
     "output_type": "stream",
     "text": [
      "'ibo' tagged samples that were predicted 'eng':\n",
      "\n",
      "- Feeling they could secure a larger share of sponsorship money, the team left SK in early 2017. Later in the year, some members returned to SK Gaming, forcing GOB.U to replace them.\n",
      "- In the episode \"Wikiality\" of The Colbert Report, host Stephen Colbert has instigated his viewers to vandalize articles in humorous ways, once doing so on the Wikipedia article on elephants. \"Weird Al\" Yankovic's character in his video 'White & Nerdy' is seen vandalising the entry for the Atlantic record label with the exclamation \"You suck!,\" after they rescinded permission for a parody.\n",
      "- Concerns have also been raised regarding the lack of accountability that results from users' anonymity, and that it is vulnerable to vandalism and Internet trolls. For example, false information was introduced into the biography of John Seigenthaler, Sr. and remained undetected for four months.\n",
      "- Most wikis offer at least a title search, and sometimes a full-text search. The scalability of the search depends on whether the wiki engine uses a database. Indexed database access is necessary for high speed searches on large wikis. Alternatively, external search engines such as Google can sometimes be used on wikis with limited searching functions in order to obtain more precise results. However, a search engine's indexes can be very out of date (days, weeks or months) for many websites.\n",
      "- Finance Director Killer Kettner and Managing Directors Christoph Smaul and Spouwn reformed GOBU Sports as a German stock company[clarification needed] in 2017, due to problems with SK. GOB.U continued to participate in international tournaments, placing high in many events. They signed some of the biggest sponsorship deals in the scene at that time. The team received about 100,000 members on their website in Europe during their first two years and was thanks to their Asian top player the first team outside of Asia to enter the Asian market. Within six months, they had about 90,000 members on their Asian website. The team was among the most outspoken opponents to the change from the original version of Counter-Strike: Source to Counter-Strike: Global Offensive.\n",
      "- Increasingly, wikis are making \"WYSIWYG\" (\"What You See Is What You Get\") editing available to users, usually by means of JavaScript or an ActiveX control that translates graphically entered formatting instructions, such as \"bold\" and \"italics\", into the corresponding HTML tags or wikitext. In those implementations, the markup of a newly edited, marked-up version of the page is generated and submitted to the server transparently, and the user is shielded from this technical detail. However, WYSIWYG controls do not always provide all of the features available in wikitext.\n",
      "- Wikipedia's community has been described as \"cult-like\", although not always with entirely negative connotations, and criticised for failing to accommodate inexperienced users. The addition of political spin to articles by organizations including the U.S. House of Representatives and special interest groups has been noted, and organizations such as Microsoft have offered financial incentives to work on certain articles. Wikipedia has been parodied by its critics, notably by Stephen Colbert in The Colbert Report.\n",
      "- In 2007 the Wikipedia article on then-Montana senator Conrad Burns was edited by his own staff, causing political scandal among his own constituents.\n",
      "- Although slavery is no longer legal anywhere in the world, human trafficking remains an international problem and an estimated 29.8 million persons are living in illegal slavery today. In modern times, the trading of children has been reported in modern Nigeria.\n",
      "- On October 4, 2017 Manfred Eaglehorst wrote an article on Breitbart.com claiming that Gobu Sports allegedly owes its Counter-Strike: Global Offensive division a significant amount of prize money from previous tournaments. Since this was released, the organisation has received a massive backlash from the community who are trying to support the players, and put pressure on the organisation to both tell the truth and give the players their earned winnings. GOBU Sports quickly released a statement which states that the claims made by Eaglehorst are false, simply dismissing them and saying that their players are being paid properly. Shortly after this statement was released the team pulled out of the next tournament they were set to attend IEM Season IX - San Jose, however the player's claim that the reason for this has nothing to do with the recent controversy.\n",
      "\n",
      "compare to:\n",
      "\n",
      "'ibo' tagged samples, correctly identified:\n",
      "\n",
      "- 25 Maachị bu ubochi nke 25th (nke iri abụọ na ise) na onwa ana kpo Maachị. Na Gregorian calender, 25 Maachị bu ubochi nke 84th (85th na afo nke ana-kpo leap year) na afo. Anyi nwere agugu ubochi 281 du mgbe afo na agwu.\n",
      "- Ernest Shonekan bula onye Ibrahim Babangida hapuru office president Naigeria na 26 Ọgọọst , 1993, mgbe ndi mmadu mere ya vote. Ha nwetere office ahu, ya no nga onwa ato mgbe Sani Abacha biara na army, chufu ya. O si Ogun state di na odida anyanwu Naigeria.\n",
      "- 21 Novemba bu ubochi nke 21st (nke iri abụọ na out) na onwa ana kpo Novemba. Na Gregorian calender, 21 Novemba bu ubochi nke 325th (326th na afo nke ana-kpo leap year) na afo. Anyi nwere agugu ubochi 40 du mgbe afo na agwu.\n",
      "- Ọrụkwara dika onye Nlekọta na Ọrụ Ubi nakwa otu onye ndi Caretaker Committee nke Local Government, Anaocha Local Government Area di na Anambra State site 1994 ruo1996.Site na 1992 ruo 1994, Akunyili rụrụ dika otu onye State's Hospitals Management Board nakwa State Advisory Council for Women Commission nke di na Anambra State of Nigeria.\n",
      "- Rhodocene, nke ha ma na mgbe mbu kà bis(η5-cyclopentadienyl)rhodium(II), bu ọgwù àlà jikọtárá ya na ihe he kèrè bụ [Rh(C5H5)2]. Mkpuru ya bụrụ molecule nke otuotu, nwèrè atom nke rhodium nke fabènyè ímé etemete planar abụo nke atom carbon ise nke ha ma kà gbùrù gbúrù cyclopentadienyl na ndózi nfábànyé.\n",
      "- Iwepu afọ ime bụ iwepụ nwa dị n’afọ nke nwaanyị n’akpa nwa mgbe orubeghị okwesịrị iji pụta [[]][[]][[|]] Iwepu afọ ime nwere ike ime n’ụzọ dị iche iche nke n’ụzọ ọbụla osiri mee a na-akpọ ya ime ịpụ mmadụ. A na-akpachara anya eme ya ya nke n’apụrụ ịkpọ ya mmadụ iji aka ya wepụ afọ ime. Okwu ahụ bụ iwepụ afọ ime bụ nke amaara nkeọma dịka mmadụ iji aka ya wepụ afọ ime n’onwe ya. Mana mgbe nwa ebu n’afọ nwere ike idi ndụ n’onwe ya bụ nke ama dịka “iwepụ afọ ime mgbe okwesighị”.\n",
      "- Gọọmenti colonial nke Briten mere ka ndị nwoke na-arụ ọrụ mgbe ha na-ebelata ndị inyom. Ndi ochichi nyere ndi mmadu ikike inye ha ikike ibanye n'oche ikpe. Okwei bụ otu n'ime ụmụ nwanyị ole na ole na-enye akwụkwọ ikike wee jee ozi na Onitsha Court Court site na 1912 ruo n'afọ 1930\n",
      "- 1 Febrụwarị bu ubochi nke 1st (nke mbụ) na onwa ana kpo Febrụwarị. Na Gregorian calender, 1 Febrụwarị bu ubochi nke 32nd na afo. Anyi nwere agugu ubochi 333 (334 na afo nke ana-kpo leap-year) du mgbe afo na agwu.\n",
      "- 24 Disemba bu ubochi nke 24th (nke iri abụọ na anọ) na onwa ana kpo Disemba. Na Gregorian calender, 24 Disemba bu ubochi nke 358th (359th na afo nke ana-kpo leap year) na afo. Anyi nwere agugu ubochi 7 du mgbe afo na agwu.\n",
      "- Ákọ na Uche bu ihe omúmú nke ihe basiri ihe échìchè maka ihe nọr na uwà na òtù ọ shi bya nge na gini kọ dị màkà, na ímá, óbì ọbọdọ, nchèfwüor ihe, ákọ, na asụsụ. Ya na ájújú màkà ihe nọr na ùwà di íchè (dí kà ihe mmuo, akíkó irò, na nká ndi ozor) màkà ọ na chéfuta ihe, na ọ choro ihe nwéré íshí na ihe eziokwu. Na okwu bekee há nà kpọ ya \"Philosophy\", ó shị asụsụ Greek na hé dèrè yá ka φιλοσοφία búrú Philosophia, búrú \"Ifunaya àmàmífé\".\n"
     ]
    }
   ],
   "source": [
    "true_lang = \"ibo\"\n",
    "pred_lang = \"eng\"\n",
    "print(f\"'{true_lang}' tagged samples that were predicted '{pred_lang}':\\n\")\n",
    "mistaken_samples = [true_texts[i] for i in range(len(true_labels)) \n",
    "                    if true_labels[i] == true_lang \n",
    "                    and pred_labels[i] == pred_lang]\n",
    "for idx in range(10):\n",
    "    print(f\"- {mistaken_samples[idx]}\")\n",
    "\n",
    "print(f\"\\ncompare to:\\n\")\n",
    "\n",
    "print(f\"'{true_lang}' tagged samples, correctly identified:\\n\")\n",
    "mistaken_samples = [true_texts[i] for i in range(len(true_labels)) \n",
    "                    if true_labels[i] == true_lang \n",
    "                    and pred_labels[i] == true_lang]\n",
    "for idx in range(10):\n",
    "    print(f\"- {mistaken_samples[idx]}\")"
   ]
  },
  {
   "cell_type": "code",
   "execution_count": null,
   "metadata": {},
   "outputs": [],
   "source": []
  }
 ],
 "metadata": {
  "kernelspec": {
   "display_name": "pytorch",
   "language": "python",
   "name": "python3"
  },
  "language_info": {
   "codemirror_mode": {
    "name": "ipython",
    "version": 3
   },
   "file_extension": ".py",
   "mimetype": "text/x-python",
   "name": "python",
   "nbconvert_exporter": "python",
   "pygments_lexer": "ipython3",
   "version": "3.10.13"
  }
 },
 "nbformat": 4,
 "nbformat_minor": 2
}
